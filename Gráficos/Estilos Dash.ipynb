{
 "cells": [
  {
   "cell_type": "code",
   "execution_count": null,
   "metadata": {},
   "outputs": [],
   "source": [
    "import dash\n",
    "import dash_core_components as dcc\n",
    "import dash_html_components as html"
   ]
  },
  {
   "cell_type": "code",
   "execution_count": null,
   "metadata": {},
   "outputs": [],
   "source": [
    "colores = {'fondo':'#111111', 'texto':'#EEEEEE', 'titulo':'green'}"
   ]
  },
  {
   "cell_type": "code",
   "execution_count": null,
   "metadata": {},
   "outputs": [],
   "source": [
    "app = dash.Dash()\n",
    "\n",
    "app.layout = html.Div(children=[\n",
    "                    html.H1('Aplicación web con Dash', style={'color':colores['texto'], 'textAlign':'center'}),\n",
    "                    dcc.Graph(\n",
    "                            id='grafico1',\n",
    "                            figure = {'data':[\n",
    "                                            {'x':[1,2,3],'y':[4,5,2],'type':'bar','name':'datos1'},\n",
    "                                            {'x':[1,2,3],'y':[3,4,1],'type':'bar','name':'datos1'}\n",
    "                                            ],\n",
    "                                      'layout':{\n",
    "                                            'title':'Gráfico con Dash',\n",
    "                                            'plot_bgcolor':colores['fondo'],\n",
    "                                            'paper_bgcolor':colores['fondo'],\n",
    "                                            'font':{'color':colores['texto']}\n",
    "                                        }\n",
    "                            })\n",
    "\n",
    "                   ],\n",
    "                    style={'backgroundColor':colores['fondo']}\n",
    "                    \n",
    "                )"
   ]
  },
  {
   "cell_type": "code",
   "execution_count": null,
   "metadata": {},
   "outputs": [],
   "source": [
    "if __name__ == '__main__':\n",
    "        app.run_server()"
   ]
  }
 ],
 "metadata": {
  "kernelspec": {
   "display_name": "Python 3",
   "language": "python",
   "name": "python3"
  },
  "language_info": {
   "codemirror_mode": {
    "name": "ipython",
    "version": 3
   },
   "file_extension": ".py",
   "mimetype": "text/x-python",
   "name": "python",
   "nbconvert_exporter": "python",
   "pygments_lexer": "ipython3",
   "version": "3.8.5"
  }
 },
 "nbformat": 4,
 "nbformat_minor": 4
}
